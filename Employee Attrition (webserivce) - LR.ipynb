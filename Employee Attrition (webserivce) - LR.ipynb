{
 "cells": [
  {
   "cell_type": "markdown",
   "metadata": {},
   "source": [
    "# Preparation"
   ]
  },
  {
   "cell_type": "code",
   "execution_count": 1,
   "metadata": {
    "colab": {
     "background_save": true
    },
    "executionInfo": {
     "elapsed": 626,
     "status": "ok",
     "timestamp": 1620615109013,
     "user": {
      "displayName": "Charlie Blog",
      "photoUrl": "",
      "userId": "05996586073871680296"
     },
     "user_tz": -480
    },
    "id": "hJH1PAMnYcJL"
   },
   "outputs": [],
   "source": [
    "%matplotlib inline\n",
    "\n",
    "import numpy as np\n",
    "import pandas as pd\n",
    "import matplotlib as mpl\n",
    "from matplotlib import pyplot as plt\n",
    "from sklearn.preprocessing import LabelEncoder\n",
    "from sklearn.preprocessing import OneHotEncoder\n",
    "from sklearn import metrics\n",
    "import datetime\n",
    "from datetime import date \n",
    "import json\n",
    "import sys\n",
    "import time\n",
    "from copy import deepcopy\n",
    "\n",
    "np.set_printoptions(threshold=sys.maxsize)\n",
    "pd.set_option('display.max_columns', 10)\n",
    "pd.set_option('display.max_rows', 100)\n",
    "\n",
    "# filepath = '/content/drive/MyDrive/Data Science/Python/Data/'\n",
    "filepath = 'D:\\Google Drive\\Google Drive (charlieblog888)\\IMV\\Data Science\\Python\\Data\\\\'\n",
    "\n",
    "prod_ratio = 0.02\n",
    "\n",
    "# 2% or 5% file\n",
    "# ext_c = '_' + str(prod_ratio)[3] + '.csv'\n",
    "# ext_e= '_' + str(prod_ratio)[3] + '.xlsx'\n",
    "\n",
    "# old file\n",
    "ext_c = '.csv'\n",
    "ext_e= '.xlsx'"
   ]
  },
  {
   "cell_type": "code",
   "execution_count": 2,
   "metadata": {
    "executionInfo": {
     "elapsed": 690,
     "status": "ok",
     "timestamp": 1620615111600,
     "user": {
      "displayName": "Charlie Blog",
      "photoUrl": "",
      "userId": "05996586073871680296"
     },
     "user_tz": -480
    },
    "id": "dRrWVsLbYcJk"
   },
   "outputs": [],
   "source": [
    "file = filepath + 'Emp_Attrition (OHE-prod)' + ext_c\n",
    "\n",
    "df = pd.read_csv(file)"
   ]
  },
  {
   "cell_type": "markdown",
   "metadata": {},
   "source": [
    "# Webservice Function ( * open * )"
   ]
  },
  {
   "cell_type": "code",
   "execution_count": 3,
   "metadata": {
    "executionInfo": {
     "elapsed": 630,
     "status": "ok",
     "timestamp": 1620615114990,
     "user": {
      "displayName": "Charlie Blog",
      "photoUrl": "",
      "userId": "05996586073871680296"
     },
     "user_tz": -480
    },
    "id": "xGoDQ9ffYcJn"
   },
   "outputs": [],
   "source": [
    "import urllib.request\n",
    "import json\n",
    "\n",
    "serviceinput = 'input1'\n",
    "serviceoutput = 'output1'\n",
    "\n",
    "def empatt(js):\n",
    " \n",
    "    input1 = {}\n",
    "    input1[serviceinput] = []\n",
    "    input1[serviceinput].append(v)\n",
    "\n",
    "    data = {}\n",
    "    data['Inputs'] = input1\n",
    "    data['GlobalParameters'] = {}\n",
    "\n",
    "    body = str.encode(json.dumps(data))\n",
    "    \n",
    "#     url = 'https://ussouthcentral.services.azureml.net/workspaces/325c5a06c97f40d7a12b46922c8e1952/services/5f084fb814ea4f39a9911c7697803311/execute?api-version=2.0&format=swagger'\n",
    "    url = 'https://ussouthcentral.services.azureml.net/workspaces/325c5a06c97f40d7a12b46922c8e1952/services/5ac47ece04ff40438f96af4ed3a16854/execute?api-version=2.0&format=swagger'\n",
    "    api_key = 'd3rApIlrRDJm6U+Nsdac3xujxps99cC8TAsYnOKQfS9MvL114ziUPAr6peADVpfHbKPzbaYLKI+v4lFqVFCuAg=='\n",
    "    headers = {'Content-Type':'application/json', 'Authorization':('Bearer '+ api_key)}\n",
    "\n",
    "    req = urllib.request.Request(url, body, headers)\n",
    "\n",
    "    try:\n",
    "        response = urllib.request.urlopen(req)\n",
    "        result = response.read()\n",
    "        return result\n",
    "\n",
    "    except urllib.error.HTTPError as error:\n",
    "        print(\"The request failed with status code: \" + str(error.code))\n",
    "        print(error.info())\n",
    "        print(json.loads(error.read().decode(\"utf8\", 'ignore')))        "
   ]
  },
  {
   "cell_type": "markdown",
   "metadata": {},
   "source": [
    "# Submit Employee Attrition Webservice Requests ( * open * )"
   ]
  },
  {
   "cell_type": "code",
   "execution_count": 4,
   "metadata": {
    "colab": {
     "base_uri": "https://localhost:8080/",
     "height": 1000
    },
    "executionInfo": {
     "elapsed": 7661,
     "status": "ok",
     "timestamp": 1620615130715,
     "user": {
      "displayName": "Charlie Blog",
      "photoUrl": "",
      "userId": "05996586073871680296"
     },
     "user_tz": -480
    },
    "id": "TB0bAXq_YcJp",
    "outputId": "3610623f-e715-4e58-a030-3b6204c8f6b7"
   },
   "outputs": [
    {
     "name": "stdout",
     "output_type": "stream",
     "text": [
      "Processing record =   1 of  30 Match     \n",
      "Processing record =   2 of  30 Match     \n",
      "Processing record =   3 of  30 Match     \n",
      "Processing record =   4 of  30 Match     \n",
      "Processing record =   5 of  30 Match     \n",
      "Processing record =   6 of  30 Match     \n",
      "Processing record =   7 of  30 Match     \n",
      "Processing record =   8 of  30 Match     \n",
      "Processing record =   9 of  30 Match     \n",
      "Processing record =  10 of  30 Match     \n",
      "Processing record =  11 of  30 Match     \n",
      "Processing record =  12 of  30 Match     \n",
      "Processing record =  13 of  30 Match     \n",
      "Processing record =  14 of  30 Match     \n",
      "Processing record =  15 of  30 Match     \n",
      "Processing record =  16 of  30 Match     \n",
      "Processing record =  17 of  30 Match     \n",
      "Processing record =  18 of  30 Match     \n",
      "Processing record =  19 of  30 Match     \n",
      "Processing record =  20 of  30 Match     \n",
      "Processing record =  21 of  30 Match     \n",
      "Processing record =  22 of  30 * Mismatch *\n",
      "Processing record =  23 of  30 Match     \n",
      "Processing record =  24 of  30 Match     \n",
      "Processing record =  25 of  30 Match     \n",
      "Processing record =  26 of  30 * Mismatch *\n",
      "Processing record =  27 of  30 * Mismatch *\n",
      "Processing record =  28 of  30 Match     \n",
      "Processing record =  29 of  30 Match     \n",
      "Processing record =  30 of  30 Match     \n"
     ]
    }
   ],
   "source": [
    "today = date.today()\n",
    "e = datetime.datetime.now()\n",
    "\n",
    "parsed = df.to_dict(orient='index')\n",
    "dfo = pd.DataFrame()\n",
    "\n",
    "# print(parsed)\n",
    "\n",
    "for k,v in parsed.items():\n",
    "        r = empatt(v)\n",
    "        r = json.loads(r)\n",
    "        r = r['Results'][serviceoutput][0]\n",
    "        dftemp = pd.DataFrame.from_dict(r,orient ='index').transpose()\n",
    "        dfo = dfo.append(dftemp,ignore_index=True)\n",
    "        suc = 'Match' if dftemp.loc[0,'Attrition']==dftemp.loc[0,'Scored Labels'] else '* Mismatch *'\n",
    "        print(f'Processing record = {k+1:3} of {len(parsed):3} {suc:10}')\n",
    "    \n",
    "file = filepath + 'Emp_Attrition (WebService Output)' + ext_c\n",
    "dfo.to_csv(file,index=False)"
   ]
  },
  {
   "cell_type": "code",
   "execution_count": 5,
   "metadata": {},
   "outputs": [
    {
     "data": {
      "text/html": [
       "<div>\n",
       "<style scoped>\n",
       "    .dataframe tbody tr th:only-of-type {\n",
       "        vertical-align: middle;\n",
       "    }\n",
       "\n",
       "    .dataframe tbody tr th {\n",
       "        vertical-align: top;\n",
       "    }\n",
       "\n",
       "    .dataframe thead th {\n",
       "        text-align: right;\n",
       "    }\n",
       "</style>\n",
       "<table border=\"1\" class=\"dataframe\">\n",
       "  <thead>\n",
       "    <tr style=\"text-align: right;\">\n",
       "      <th></th>\n",
       "      <th>Age</th>\n",
       "      <th>Attrition</th>\n",
       "      <th>DailyRate</th>\n",
       "      <th>DistanceFromHome</th>\n",
       "      <th>Education</th>\n",
       "      <th>...</th>\n",
       "      <th>Divorced</th>\n",
       "      <th>Married</th>\n",
       "      <th>Single</th>\n",
       "      <th>Scored Labels</th>\n",
       "      <th>Scored Probabilities</th>\n",
       "    </tr>\n",
       "  </thead>\n",
       "  <tbody>\n",
       "    <tr>\n",
       "      <th>0</th>\n",
       "      <td>40</td>\n",
       "      <td>False</td>\n",
       "      <td>905</td>\n",
       "      <td>19</td>\n",
       "      <td>2</td>\n",
       "      <td>...</td>\n",
       "      <td>0</td>\n",
       "      <td>1</td>\n",
       "      <td>0</td>\n",
       "      <td>False</td>\n",
       "      <td>0.238019645214081</td>\n",
       "    </tr>\n",
       "    <tr>\n",
       "      <th>1</th>\n",
       "      <td>46</td>\n",
       "      <td>False</td>\n",
       "      <td>717</td>\n",
       "      <td>13</td>\n",
       "      <td>4</td>\n",
       "      <td>...</td>\n",
       "      <td>0</td>\n",
       "      <td>0</td>\n",
       "      <td>1</td>\n",
       "      <td>False</td>\n",
       "      <td>0.0429149717092514</td>\n",
       "    </tr>\n",
       "    <tr>\n",
       "      <th>2</th>\n",
       "      <td>49</td>\n",
       "      <td>False</td>\n",
       "      <td>1495</td>\n",
       "      <td>5</td>\n",
       "      <td>4</td>\n",
       "      <td>...</td>\n",
       "      <td>0</td>\n",
       "      <td>1</td>\n",
       "      <td>0</td>\n",
       "      <td>False</td>\n",
       "      <td>0.108841590583324</td>\n",
       "    </tr>\n",
       "  </tbody>\n",
       "</table>\n",
       "<p>3 rows × 53 columns</p>\n",
       "</div>"
      ],
      "text/plain": [
       "  Age Attrition DailyRate DistanceFromHome Education  ... Divorced Married  \\\n",
       "0  40     False       905               19         2  ...        0       1   \n",
       "1  46     False       717               13         4  ...        0       0   \n",
       "2  49     False      1495                5         4  ...        0       1   \n",
       "\n",
       "  Single Scored Labels Scored Probabilities  \n",
       "0      0         False    0.238019645214081  \n",
       "1      1         False   0.0429149717092514  \n",
       "2      0         False    0.108841590583324  \n",
       "\n",
       "[3 rows x 53 columns]"
      ]
     },
     "execution_count": 5,
     "metadata": {},
     "output_type": "execute_result"
    }
   ],
   "source": [
    "dfo.head(3)"
   ]
  },
  {
   "cell_type": "markdown",
   "metadata": {
    "heading_collapsed": true
   },
   "source": [
    "# Process Webservice Response"
   ]
  },
  {
   "cell_type": "code",
   "execution_count": 6,
   "metadata": {
    "hidden": true
   },
   "outputs": [],
   "source": [
    "file = filepath + 'WA_Fn-UseC_-HR-Employee-Attrition.csv'\n",
    "\n",
    "dfsource = pd.read_csv(file,dtype = 'str')"
   ]
  },
  {
   "cell_type": "code",
   "execution_count": 7,
   "metadata": {
    "hidden": true
   },
   "outputs": [],
   "source": [
    "dfz = pd.merge(dfo, dfsource, on=['Age','DailyRate','DistanceFromHome','Education'], how='inner')\n",
    "dfz = dfz.reset_index(drop=True)"
   ]
  },
  {
   "cell_type": "code",
   "execution_count": 8,
   "metadata": {
    "hidden": true
   },
   "outputs": [],
   "source": [
    "dropcol = ['Attrition_y','BusinessTravel', 'Department', 'EducationField', 'EmployeeCount', 'EnvironmentSatisfaction_y', 'Gender', 'HourlyRate_y', \\\n",
    "       'JobInvolvement_y', 'JobLevel_y', 'JobRole', 'JobSatisfaction_y', 'MaritalStatus', 'MonthlyIncome_y', 'MonthlyRate_y', \\\n",
    "       'NumCompaniesWorked_y', 'Over18', 'OverTime_y', 'PercentSalaryHike_y','PerformanceRating_y', 'RelationshipSatisfaction_y', 'StandardHours', \\\n",
    "       'StockOptionLevel_y', 'TotalWorkingYears_y', 'TrainingTimesLastYear_y','WorkLifeBalance_y', 'YearsAtCompany_y', 'YearsInCurrentRole_y', \\\n",
    "       'YearsSinceLastPromotion_y', 'YearsWithCurrManager_y']\n",
    "dfz.drop(columns=dropcol,inplace=True)\n",
    "renamecol = ['Age', 'Attrition', 'DailyRate', 'DistanceFromHome', 'Education','EnvironmentSatisfaction', 'HourlyRate', 'JobInvolvement', 'JobLevel', \\\n",
    "       'JobSatisfaction', 'MonthlyIncome', 'MonthlyRate', 'NumCompaniesWorked','OverTime', 'PercentSalaryHike', 'PerformanceRating', \\\n",
    "       'RelationshipSatisfaction', 'StockOptionLevel', 'TotalWorkingYears','TrainingTimesLastYear', 'WorkLifeBalance', 'YearsAtCompany', \\\n",
    "       'YearsInCurrentRole', 'YearsSinceLastPromotion', 'YearsWithCurrManager','Non-Travel', 'Travel_Frequently', 'Travel_Rarely', 'Human Resources', \\\n",
    "       'Research & Development', 'Sales', 'Human Resources_EducationField','Life Sciences', 'Marketing', 'Medical', 'Other', 'Technical Degree', \\\n",
    "       'Female', 'Male', 'Healthcare Representative','Human Resources_JobRole', 'Laboratory Technician', 'Manager', \\\n",
    "       'Manufacturing Director', 'Research Director', 'Research Scientist','Sales Executive', 'Sales Representative', 'Divorced', 'Married', \\\n",
    "       'Single', 'Scored Labels', 'Scored Probabilities','EmployeeNumber']\n",
    "dfz.columns = renamecol"
   ]
  },
  {
   "cell_type": "code",
   "execution_count": 9,
   "metadata": {
    "hidden": true
   },
   "outputs": [],
   "source": [
    "for i in dfz.columns:\n",
    "    if not i in ['Attrition', 'OverTime', 'Scored Labels']:\n",
    "        dfz[i] = dfz[i].astype(np.float64)\n",
    "\n",
    "dfz['Attrition'] = dfz['Attrition'].astype(str).apply(lambda x: True if x in ['True'] else False)\n",
    "dfz['OverTime'] = dfz['OverTime'].astype(str).apply(lambda x: True if x in ['True'] else False)\n",
    "dfz['Scored Labels'] = dfz['Scored Labels'].astype(str).apply(lambda x: True if x in ['True'] else False)\n",
    "dfz['EmployeeNumber'] = dfz['EmployeeNumber'].astype(np.int32)\n",
    "dfz['PerformanceRating'] = dfz['PerformanceRating'].astype(np.int32)"
   ]
  },
  {
   "cell_type": "markdown",
   "metadata": {
    "heading_collapsed": true
   },
   "source": [
    "# Display Employee Leave Prediction ( * open * )"
   ]
  },
  {
   "cell_type": "code",
   "execution_count": 10,
   "metadata": {
    "hidden": true
   },
   "outputs": [
    {
     "name": "stdout",
     "output_type": "stream",
     "text": [
      "\n",
      "\n",
      "Employee who will *leave* with probablities of leaving\n",
      "\n"
     ]
    },
    {
     "data": {
      "text/html": [
       "<div>\n",
       "<style scoped>\n",
       "    .dataframe tbody tr th:only-of-type {\n",
       "        vertical-align: middle;\n",
       "    }\n",
       "\n",
       "    .dataframe tbody tr th {\n",
       "        vertical-align: top;\n",
       "    }\n",
       "\n",
       "    .dataframe thead th {\n",
       "        text-align: right;\n",
       "    }\n",
       "</style>\n",
       "<table border=\"1\" class=\"dataframe\">\n",
       "  <thead>\n",
       "    <tr style=\"text-align: right;\">\n",
       "      <th></th>\n",
       "      <th>EmployeeNumber</th>\n",
       "      <th>PerformanceRating</th>\n",
       "      <th>HR Score</th>\n",
       "      <th>Scored Labels</th>\n",
       "      <th>Scored Probabilities</th>\n",
       "    </tr>\n",
       "  </thead>\n",
       "  <tbody>\n",
       "    <tr>\n",
       "      <th>0</th>\n",
       "      <td>492</td>\n",
       "      <td>3</td>\n",
       "      <td>Leave</td>\n",
       "      <td>Leave</td>\n",
       "      <td>0.569709</td>\n",
       "    </tr>\n",
       "    <tr>\n",
       "      <th>1</th>\n",
       "      <td>648</td>\n",
       "      <td>3</td>\n",
       "      <td>Leave</td>\n",
       "      <td>Leave</td>\n",
       "      <td>0.569686</td>\n",
       "    </tr>\n",
       "    <tr>\n",
       "      <th>2</th>\n",
       "      <td>932</td>\n",
       "      <td>4</td>\n",
       "      <td>Leave</td>\n",
       "      <td>Leave</td>\n",
       "      <td>0.562404</td>\n",
       "    </tr>\n",
       "    <tr>\n",
       "      <th>3</th>\n",
       "      <td>1419</td>\n",
       "      <td>3</td>\n",
       "      <td>Stay</td>\n",
       "      <td>Leave</td>\n",
       "      <td>0.522807</td>\n",
       "    </tr>\n",
       "  </tbody>\n",
       "</table>\n",
       "</div>"
      ],
      "text/plain": [
       "   EmployeeNumber  PerformanceRating HR Score Scored Labels  \\\n",
       "0             492                  3    Leave         Leave   \n",
       "1             648                  3    Leave         Leave   \n",
       "2             932                  4    Leave         Leave   \n",
       "3            1419                  3     Stay         Leave   \n",
       "\n",
       "   Scored Probabilities  \n",
       "0              0.569709  \n",
       "1              0.569686  \n",
       "2              0.562404  \n",
       "3              0.522807  "
      ]
     },
     "execution_count": 10,
     "metadata": {},
     "output_type": "execute_result"
    }
   ],
   "source": [
    "print('\\n\\nEmployee who will *leave* with probablities of leaving\\n')\n",
    "empatt = dfz[['EmployeeNumber', 'PerformanceRating', 'Attrition', 'Scored Labels', 'Scored Probabilities']].sort_values('Scored Probabilities',ascending=False)\n",
    "coln = ['EmployeeNumber', 'PerformanceRating', 'HR Score', 'Scored Labels', 'Scored Probabilities']\n",
    "empatt.columns = coln\n",
    "leave = empatt[empatt['Scored Labels']].reset_index(drop=True)\n",
    "leave['Scored Labels'] = leave['Scored Labels'].apply(lambda x: 'Leave')\n",
    "leave['HR Score'] = leave['HR Score'].apply(lambda x: 'Leave' if x==np.True_ else 'Stay')\n",
    "leave"
   ]
  },
  {
   "cell_type": "markdown",
   "metadata": {
    "heading_collapsed": true
   },
   "source": [
    "# Display Employee Stay Prediction ( * open * )"
   ]
  },
  {
   "cell_type": "code",
   "execution_count": 11,
   "metadata": {
    "hidden": true
   },
   "outputs": [
    {
     "name": "stdout",
     "output_type": "stream",
     "text": [
      "\n",
      "\n",
      "Employee who will *stay* with probablities of staying\n",
      "\n"
     ]
    },
    {
     "data": {
      "text/html": [
       "<div>\n",
       "<style scoped>\n",
       "    .dataframe tbody tr th:only-of-type {\n",
       "        vertical-align: middle;\n",
       "    }\n",
       "\n",
       "    .dataframe tbody tr th {\n",
       "        vertical-align: top;\n",
       "    }\n",
       "\n",
       "    .dataframe thead th {\n",
       "        text-align: right;\n",
       "    }\n",
       "</style>\n",
       "<table border=\"1\" class=\"dataframe\">\n",
       "  <thead>\n",
       "    <tr style=\"text-align: right;\">\n",
       "      <th></th>\n",
       "      <th>EmployeeNumber</th>\n",
       "      <th>PerformanceRating</th>\n",
       "      <th>HR Score</th>\n",
       "      <th>Scored Labels</th>\n",
       "      <th>Scored Probabilities</th>\n",
       "    </tr>\n",
       "  </thead>\n",
       "  <tbody>\n",
       "    <tr>\n",
       "      <th>0</th>\n",
       "      <td>1618</td>\n",
       "      <td>3</td>\n",
       "      <td>Stay</td>\n",
       "      <td>Stay</td>\n",
       "      <td>0.977657</td>\n",
       "    </tr>\n",
       "    <tr>\n",
       "      <th>1</th>\n",
       "      <td>692</td>\n",
       "      <td>4</td>\n",
       "      <td>Stay</td>\n",
       "      <td>Stay</td>\n",
       "      <td>0.973445</td>\n",
       "    </tr>\n",
       "    <tr>\n",
       "      <th>2</th>\n",
       "      <td>1595</td>\n",
       "      <td>4</td>\n",
       "      <td>Stay</td>\n",
       "      <td>Stay</td>\n",
       "      <td>0.969739</td>\n",
       "    </tr>\n",
       "    <tr>\n",
       "      <th>3</th>\n",
       "      <td>338</td>\n",
       "      <td>3</td>\n",
       "      <td>Stay</td>\n",
       "      <td>Stay</td>\n",
       "      <td>0.961167</td>\n",
       "    </tr>\n",
       "    <tr>\n",
       "      <th>4</th>\n",
       "      <td>1727</td>\n",
       "      <td>3</td>\n",
       "      <td>Stay</td>\n",
       "      <td>Stay</td>\n",
       "      <td>0.957085</td>\n",
       "    </tr>\n",
       "    <tr>\n",
       "      <th>5</th>\n",
       "      <td>202</td>\n",
       "      <td>3</td>\n",
       "      <td>Stay</td>\n",
       "      <td>Stay</td>\n",
       "      <td>0.932794</td>\n",
       "    </tr>\n",
       "    <tr>\n",
       "      <th>6</th>\n",
       "      <td>951</td>\n",
       "      <td>4</td>\n",
       "      <td>Stay</td>\n",
       "      <td>Stay</td>\n",
       "      <td>0.922927</td>\n",
       "    </tr>\n",
       "    <tr>\n",
       "      <th>7</th>\n",
       "      <td>1802</td>\n",
       "      <td>3</td>\n",
       "      <td>Stay</td>\n",
       "      <td>Stay</td>\n",
       "      <td>0.917534</td>\n",
       "    </tr>\n",
       "    <tr>\n",
       "      <th>8</th>\n",
       "      <td>1922</td>\n",
       "      <td>3</td>\n",
       "      <td>Stay</td>\n",
       "      <td>Stay</td>\n",
       "      <td>0.911965</td>\n",
       "    </tr>\n",
       "    <tr>\n",
       "      <th>9</th>\n",
       "      <td>1805</td>\n",
       "      <td>3</td>\n",
       "      <td>Stay</td>\n",
       "      <td>Stay</td>\n",
       "      <td>0.909021</td>\n",
       "    </tr>\n",
       "    <tr>\n",
       "      <th>10</th>\n",
       "      <td>1706</td>\n",
       "      <td>3</td>\n",
       "      <td>Stay</td>\n",
       "      <td>Stay</td>\n",
       "      <td>0.894335</td>\n",
       "    </tr>\n",
       "    <tr>\n",
       "      <th>11</th>\n",
       "      <td>834</td>\n",
       "      <td>3</td>\n",
       "      <td>Stay</td>\n",
       "      <td>Stay</td>\n",
       "      <td>0.892132</td>\n",
       "    </tr>\n",
       "    <tr>\n",
       "      <th>12</th>\n",
       "      <td>1473</td>\n",
       "      <td>3</td>\n",
       "      <td>Stay</td>\n",
       "      <td>Stay</td>\n",
       "      <td>0.891158</td>\n",
       "    </tr>\n",
       "    <tr>\n",
       "      <th>13</th>\n",
       "      <td>176</td>\n",
       "      <td>3</td>\n",
       "      <td>Stay</td>\n",
       "      <td>Stay</td>\n",
       "      <td>0.836973</td>\n",
       "    </tr>\n",
       "    <tr>\n",
       "      <th>14</th>\n",
       "      <td>1907</td>\n",
       "      <td>3</td>\n",
       "      <td>Leave</td>\n",
       "      <td>Stay</td>\n",
       "      <td>0.790840</td>\n",
       "    </tr>\n",
       "    <tr>\n",
       "      <th>15</th>\n",
       "      <td>936</td>\n",
       "      <td>3</td>\n",
       "      <td>Stay</td>\n",
       "      <td>Stay</td>\n",
       "      <td>0.779847</td>\n",
       "    </tr>\n",
       "    <tr>\n",
       "      <th>16</th>\n",
       "      <td>1577</td>\n",
       "      <td>3</td>\n",
       "      <td>Stay</td>\n",
       "      <td>Stay</td>\n",
       "      <td>0.774747</td>\n",
       "    </tr>\n",
       "    <tr>\n",
       "      <th>17</th>\n",
       "      <td>281</td>\n",
       "      <td>3</td>\n",
       "      <td>Stay</td>\n",
       "      <td>Stay</td>\n",
       "      <td>0.761980</td>\n",
       "    </tr>\n",
       "    <tr>\n",
       "      <th>18</th>\n",
       "      <td>1251</td>\n",
       "      <td>3</td>\n",
       "      <td>Stay</td>\n",
       "      <td>Stay</td>\n",
       "      <td>0.743737</td>\n",
       "    </tr>\n",
       "    <tr>\n",
       "      <th>19</th>\n",
       "      <td>565</td>\n",
       "      <td>3</td>\n",
       "      <td>Leave</td>\n",
       "      <td>Stay</td>\n",
       "      <td>0.737639</td>\n",
       "    </tr>\n",
       "    <tr>\n",
       "      <th>20</th>\n",
       "      <td>1481</td>\n",
       "      <td>3</td>\n",
       "      <td>Stay</td>\n",
       "      <td>Stay</td>\n",
       "      <td>0.734031</td>\n",
       "    </tr>\n",
       "    <tr>\n",
       "      <th>21</th>\n",
       "      <td>1390</td>\n",
       "      <td>3</td>\n",
       "      <td>Stay</td>\n",
       "      <td>Stay</td>\n",
       "      <td>0.712294</td>\n",
       "    </tr>\n",
       "    <tr>\n",
       "      <th>22</th>\n",
       "      <td>1403</td>\n",
       "      <td>3</td>\n",
       "      <td>Stay</td>\n",
       "      <td>Stay</td>\n",
       "      <td>0.701465</td>\n",
       "    </tr>\n",
       "    <tr>\n",
       "      <th>23</th>\n",
       "      <td>61</td>\n",
       "      <td>4</td>\n",
       "      <td>Stay</td>\n",
       "      <td>Stay</td>\n",
       "      <td>0.689491</td>\n",
       "    </tr>\n",
       "    <tr>\n",
       "      <th>24</th>\n",
       "      <td>1924</td>\n",
       "      <td>3</td>\n",
       "      <td>Stay</td>\n",
       "      <td>Stay</td>\n",
       "      <td>0.680742</td>\n",
       "    </tr>\n",
       "    <tr>\n",
       "      <th>25</th>\n",
       "      <td>1066</td>\n",
       "      <td>3</td>\n",
       "      <td>Stay</td>\n",
       "      <td>Stay</td>\n",
       "      <td>0.589372</td>\n",
       "    </tr>\n",
       "  </tbody>\n",
       "</table>\n",
       "</div>"
      ],
      "text/plain": [
       "    EmployeeNumber  PerformanceRating HR Score Scored Labels  \\\n",
       "0             1618                  3     Stay          Stay   \n",
       "1              692                  4     Stay          Stay   \n",
       "2             1595                  4     Stay          Stay   \n",
       "3              338                  3     Stay          Stay   \n",
       "4             1727                  3     Stay          Stay   \n",
       "5              202                  3     Stay          Stay   \n",
       "6              951                  4     Stay          Stay   \n",
       "7             1802                  3     Stay          Stay   \n",
       "8             1922                  3     Stay          Stay   \n",
       "9             1805                  3     Stay          Stay   \n",
       "10            1706                  3     Stay          Stay   \n",
       "11             834                  3     Stay          Stay   \n",
       "12            1473                  3     Stay          Stay   \n",
       "13             176                  3     Stay          Stay   \n",
       "14            1907                  3    Leave          Stay   \n",
       "15             936                  3     Stay          Stay   \n",
       "16            1577                  3     Stay          Stay   \n",
       "17             281                  3     Stay          Stay   \n",
       "18            1251                  3     Stay          Stay   \n",
       "19             565                  3    Leave          Stay   \n",
       "20            1481                  3     Stay          Stay   \n",
       "21            1390                  3     Stay          Stay   \n",
       "22            1403                  3     Stay          Stay   \n",
       "23              61                  4     Stay          Stay   \n",
       "24            1924                  3     Stay          Stay   \n",
       "25            1066                  3     Stay          Stay   \n",
       "\n",
       "    Scored Probabilities  \n",
       "0               0.977657  \n",
       "1               0.973445  \n",
       "2               0.969739  \n",
       "3               0.961167  \n",
       "4               0.957085  \n",
       "5               0.932794  \n",
       "6               0.922927  \n",
       "7               0.917534  \n",
       "8               0.911965  \n",
       "9               0.909021  \n",
       "10              0.894335  \n",
       "11              0.892132  \n",
       "12              0.891158  \n",
       "13              0.836973  \n",
       "14              0.790840  \n",
       "15              0.779847  \n",
       "16              0.774747  \n",
       "17              0.761980  \n",
       "18              0.743737  \n",
       "19              0.737639  \n",
       "20              0.734031  \n",
       "21              0.712294  \n",
       "22              0.701465  \n",
       "23              0.689491  \n",
       "24              0.680742  \n",
       "25              0.589372  "
      ]
     },
     "execution_count": 11,
     "metadata": {},
     "output_type": "execute_result"
    }
   ],
   "source": [
    "print('\\n\\nEmployee who will *stay* with probablities of staying\\n')\n",
    "empatt = dfz[['EmployeeNumber', 'PerformanceRating', 'Attrition', 'Scored Labels', 'Scored Probabilities']].sort_values('Scored Probabilities')\n",
    "coln = ['EmployeeNumber', 'PerformanceRating', 'HR Score', 'Scored Labels', 'Scored Probabilities']\n",
    "empatt.columns = coln\n",
    "stay = empatt[~empatt['Scored Labels']].reset_index(drop=True)\n",
    "stay['Scored Labels'] = stay['Scored Labels'].apply(lambda x: 'Stay')\n",
    "stay['Scored Probabilities'] = stay['Scored Probabilities'].apply(lambda x: 1-x)\n",
    "stay['HR Score'] = stay['HR Score'].apply(lambda x: 'Leave' if x==np.True_ else 'Stay')\n",
    "stay"
   ]
  },
  {
   "cell_type": "code",
   "execution_count": 12,
   "metadata": {
    "hidden": true
   },
   "outputs": [
    {
     "data": {
      "image/png": "[encoded data removed]",
      "text/plain": [
       "<Figure size 864x360 with 1 Axes>"
      ]
     },
     "metadata": {
      "needs_background": "light"
     },
     "output_type": "display_data"
    }
   ],
   "source": [
    "x = empatt['Scored Probabilities']\n",
    "y = empatt['Scored Labels']\n",
    "\n",
    "plt.figure(figsize=(12,5))\n",
    "plt.title('Distribution of Probabilities',pad=20,color='g',fontsize=20)\n",
    "plt.scatter(x,y,alpha=0.08,s=1800,color='r')\n",
    "plt.axvline(x=0.5,ls='--')\n",
    "plt.xlim(0,1)\n",
    "plt.ylim(-0.18,1.2)\n",
    "plt.xticks([0,0.25,0.5,0.75,1])\n",
    "plt.yticks([0,1],['',''],color='g',fontsize=12)\n",
    "plt.xlabel('Scored Probabilities',labelpad=10,color='g',fontsize=12)\n",
    "plt.ylabel('Prediction',labelpad=35,rotation=0,color='g',fontsize=12)\n",
    "plt.text(0.18,0.20,'Stay',fontsize=50,color='grey')\n",
    "plt.text(0.66,0.65,'Leave',fontsize=50,color='grey')\n",
    "plt.text(0.48,0.30,\"Threshold 50% for ROC\",rotation=90,c='b',fontsize=8)\n",
    "plt.text(0.467,0.20,\"<====>\")\n",
    "plt.tight_layout()\n",
    "plt.show();"
   ]
  },
  {
   "cell_type": "markdown",
   "metadata": {
    "heading_collapsed": true
   },
   "source": [
    "# Preparing Plot"
   ]
  },
  {
   "cell_type": "code",
   "execution_count": 13,
   "metadata": {
    "hidden": true
   },
   "outputs": [],
   "source": [
    "file = filepath + 'Emp_Attrition (WebService Output EmpNo)' + ext_c\n",
    "dfz.to_csv(file,index=False)"
   ]
  },
  {
   "cell_type": "code",
   "execution_count": 14,
   "metadata": {
    "hidden": true,
    "scrolled": true
   },
   "outputs": [],
   "source": [
    "y_test = dfo['Attrition'] ; y_pred = dfo['Scored Labels']\n",
    "cm = pd.crosstab(y_test, y_pred, rownames=['Actual Result'], colnames=['Predicted Result'])\n",
    "TP = cm.iloc[1,1] ; TN = cm.iloc[0,0] ; FP = cm.iloc[0,1] ; FN = cm.iloc[1,0] ; Accuracy = (TP + TN) / (TP + TN + FP + FN) ; Precision = TP / (TP + FP) ; Recall = TP / (TP + FN) ; F1 = (2 * Precision * Recall) / (Precision + Recall)"
   ]
  },
  {
   "cell_type": "code",
   "execution_count": 15,
   "metadata": {
    "hidden": true
   },
   "outputs": [],
   "source": [
    "fileaz = filepath + 'Emp_Attrition (Azure Score).csv.csv'\n",
    "\n",
    "dfaz = pd.read_csv(fileaz)\n",
    "\n",
    "y_test2 = dfaz['Attrition']\n",
    "y_pred2 = dfaz['Scored Labels']\n"
   ]
  },
  {
   "cell_type": "code",
   "execution_count": 16,
   "metadata": {
    "hidden": true
   },
   "outputs": [],
   "source": [
    "y_test2 = y_test2.apply(lambda x: 1 if str(x) in ['True'] else 0)\n",
    "y_pred2 = y_pred2.apply(lambda x: 1 if str(x) in ['True'] else 0)"
   ]
  },
  {
   "cell_type": "code",
   "execution_count": 17,
   "metadata": {
    "hidden": true
   },
   "outputs": [],
   "source": [
    "auc2 = metrics.roc_auc_score(y_test2, y_pred2)\n",
    "false_positive_rate2, true_positive_rate2, thresolds2 = metrics.roc_curve(y_test2, y_pred2)"
   ]
  },
  {
   "cell_type": "code",
   "execution_count": 18,
   "metadata": {
    "hidden": true
   },
   "outputs": [],
   "source": [
    "from sklearn import metrics\n",
    "\n",
    "y_pred1 = y_pred.apply(lambda x: 1 if x in ['True'] else 0)\n",
    "y_test1 = y_test.apply(lambda x: 1 if x in ['True'] else 0)\n",
    "\n",
    "auc = metrics.roc_auc_score(y_test1, y_pred1)\n",
    "false_positive_rate, true_positive_rate, thresolds = metrics.roc_curve(y_test1, y_pred1)"
   ]
  },
  {
   "cell_type": "markdown",
   "metadata": {},
   "source": [
    "# AUCROC Plot and Scoring ( * open * )"
   ]
  },
  {
   "cell_type": "code",
   "execution_count": 19,
   "metadata": {
    "scrolled": false
   },
   "outputs": [
    {
     "name": "stdout",
     "output_type": "stream",
     "text": [
      "\n",
      "Current datetime = 2021-06-04, 22:23:44\n"
     ]
    },
    {
     "data": {
      "image/png": "[encoded data removed]",
      "text/plain": [
       "<Figure size 600x400 with 1 Axes>"
      ]
     },
     "metadata": {
      "needs_background": "light"
     },
     "output_type": "display_data"
    },
    {
     "name": "stdout",
     "output_type": "stream",
     "text": [
      "Accuracy  =  0.9   Precision =  0.75\n",
      "Recall    =  0.6   F1        =  0.667\n"
     ]
    },
    {
     "data": {
      "text/html": [
       "<div>\n",
       "<style scoped>\n",
       "    .dataframe tbody tr th:only-of-type {\n",
       "        vertical-align: middle;\n",
       "    }\n",
       "\n",
       "    .dataframe tbody tr th {\n",
       "        vertical-align: top;\n",
       "    }\n",
       "\n",
       "    .dataframe thead th {\n",
       "        text-align: right;\n",
       "    }\n",
       "</style>\n",
       "<table border=\"1\" class=\"dataframe\">\n",
       "  <thead>\n",
       "    <tr style=\"text-align: right;\">\n",
       "      <th>Predicted Result</th>\n",
       "      <th>False</th>\n",
       "      <th>True</th>\n",
       "    </tr>\n",
       "    <tr>\n",
       "      <th>Actual Result</th>\n",
       "      <th></th>\n",
       "      <th></th>\n",
       "    </tr>\n",
       "  </thead>\n",
       "  <tbody>\n",
       "    <tr>\n",
       "      <th>False</th>\n",
       "      <td>24</td>\n",
       "      <td>1</td>\n",
       "    </tr>\n",
       "    <tr>\n",
       "      <th>True</th>\n",
       "      <td>2</td>\n",
       "      <td>3</td>\n",
       "    </tr>\n",
       "  </tbody>\n",
       "</table>\n",
       "</div>"
      ],
      "text/plain": [
       "Predicted Result  False  True\n",
       "Actual Result                \n",
       "False                24     1\n",
       "True                  2     3"
      ]
     },
     "execution_count": 19,
     "metadata": {},
     "output_type": "execute_result"
    }
   ],
   "source": [
    "print(f'\\nCurrent datetime = {today}, {e.hour:02d}:{e.minute:02d}:{e.second:02d}')\n",
    "\n",
    "plt.figure(figsize=(6, 4), dpi=100)\n",
    "plt.axis('scaled')\n",
    "plt.xlim([0, 1])\n",
    "plt.ylim([0, 1])\n",
    "plt.title(\"AUC & ROC Curve\")\n",
    "plt.plot(false_positive_rate2, true_positive_rate2, 'r', label=f'{\"test\"}{\"AUC = \":>7s}{auc2:>0.3f}')\n",
    "plt.plot(false_positive_rate, true_positive_rate, 'g',label=f'{\"live\"}{\"AUC = \":>7s}{auc:>0.3f}')\n",
    "plt.xlabel(\"False Positive Rate\",fontsize=7)\n",
    "plt.ylabel(\"True Positive Rate\",fontsize=7)\n",
    "plt.legend(loc='lower right')\n",
    "plt.show();\n",
    "print(f'Accuracy  =  {Accuracy:1.3}   Precision =  {Precision:1.3}')\n",
    "print(f'Recall    =  {Recall:1.3}   F1        =  {F1:1.3}')\n",
    "cm"
   ]
  },
  {
   "cell_type": "markdown",
   "metadata": {
    "heading_collapsed": true
   },
   "source": [
    "# Backup"
   ]
  },
  {
   "cell_type": "code",
   "execution_count": 20,
   "metadata": {
    "hidden": true,
    "scrolled": true
   },
   "outputs": [],
   "source": [
    "# from sklearn.metrics import confusion_matrix\n",
    "# from sklearn.metrics import classification_report\n",
    "\n",
    "# y_test = dfz[\"Attrition\"]\n",
    "# y_pred = dfz[\"Scored Labels\"]\n",
    "\n",
    "# cm = confusion_matrix(y_test,y_pred)\n",
    "# # print(cm)\n",
    "# # print(classification_report(y_test,y_pred))\n",
    "\n",
    "# cm = pd.crosstab(y_test, y_pred, rownames=['Actual Result'], colnames=['Predicted Result'])"
   ]
  },
  {
   "cell_type": "code",
   "execution_count": 21,
   "metadata": {
    "hidden": true
   },
   "outputs": [],
   "source": [
    "# plt.fill_between(false_positive_rate, true_positive_rate, facecolor='lightgreen', alpha=0.7)"
   ]
  },
  {
   "cell_type": "markdown",
   "metadata": {},
   "source": [
    "# End"
   ]
  },
  {
   "cell_type": "code",
   "execution_count": 22,
   "metadata": {},
   "outputs": [
    {
     "name": "stdout",
     "output_type": "stream",
     "text": [
      "Done.\n"
     ]
    }
   ],
   "source": [
    "print('Done.')"
   ]
  }
 ],
 "metadata": {
  "colab": {
   "name": "Employee Attrition (webserivce).ipynb",
   "version": ""
  },
  "kernelspec": {
   "display_name": "Python 3",
   "language": "python",
   "name": "python3"
  },
  "language_info": {
   "codemirror_mode": {
    "name": "ipython",
    "version": 3
   },
   "file_extension": ".py",
   "mimetype": "text/x-python",
   "name": "python",
   "nbconvert_exporter": "python",
   "pygments_lexer": "ipython3",
   "version": "3.8.2"
  }
 },
 "nbformat": 4,
 "nbformat_minor": 1
}
